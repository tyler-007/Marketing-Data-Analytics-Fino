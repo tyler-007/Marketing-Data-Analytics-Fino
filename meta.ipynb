{
 "cells": [
  {
   "cell_type": "code",
   "execution_count": 2,
   "metadata": {},
   "outputs": [],
   "source": [
    "import pandas as pd\n",
    "import numpy as np \n",
    "import matplotlib.pyplot as plt"
   ]
  },
  {
   "cell_type": "code",
   "execution_count": 5,
   "metadata": {},
   "outputs": [],
   "source": [
    "meta=pd.read_csv(\"Fino Dataset- Aayush - meta (1).csv\")"
   ]
  },
  {
   "cell_type": "code",
   "execution_count": 6,
   "metadata": {},
   "outputs": [
    {
     "data": {
      "text/html": [
       "<div>\n",
       "<style scoped>\n",
       "    .dataframe tbody tr th:only-of-type {\n",
       "        vertical-align: middle;\n",
       "    }\n",
       "\n",
       "    .dataframe tbody tr th {\n",
       "        vertical-align: top;\n",
       "    }\n",
       "\n",
       "    .dataframe thead th {\n",
       "        text-align: right;\n",
       "    }\n",
       "</style>\n",
       "<table border=\"1\" class=\"dataframe\">\n",
       "  <thead>\n",
       "    <tr style=\"text-align: right;\">\n",
       "      <th></th>\n",
       "      <th>SI number</th>\n",
       "      <th>Product</th>\n",
       "      <th>Campaign Owner</th>\n",
       "      <th>Platform</th>\n",
       "      <th>Date</th>\n",
       "      <th>Campaign name</th>\n",
       "      <th>Target Audience</th>\n",
       "      <th>Budget Spent</th>\n",
       "      <th>Installs</th>\n",
       "      <th>CPC/CPI</th>\n",
       "    </tr>\n",
       "  </thead>\n",
       "  <tbody>\n",
       "    <tr>\n",
       "      <th>0</th>\n",
       "      <td>1</td>\n",
       "      <td>FinoPay</td>\n",
       "      <td>Neha Yadav</td>\n",
       "      <td>Meta</td>\n",
       "      <td>7th Nov - 17th Nov</td>\n",
       "      <td>FinoPay Install Campaign</td>\n",
       "      <td>Already targetted (Remarketing)</td>\n",
       "      <td>18196</td>\n",
       "      <td>887</td>\n",
       "      <td>20.51</td>\n",
       "    </tr>\n",
       "    <tr>\n",
       "      <th>1</th>\n",
       "      <td>2</td>\n",
       "      <td>FinoPay</td>\n",
       "      <td>Neha Yadav</td>\n",
       "      <td>Meta</td>\n",
       "      <td>7th Nov - 17th Nov</td>\n",
       "      <td>FinoPay Install Campaign</td>\n",
       "      <td>PAN India (lookalike of Fino's customer base)</td>\n",
       "      <td>15,322</td>\n",
       "      <td>759</td>\n",
       "      <td>20.19</td>\n",
       "    </tr>\n",
       "    <tr>\n",
       "      <th>2</th>\n",
       "      <td>3</td>\n",
       "      <td>FinoPay</td>\n",
       "      <td>Neha Yadav</td>\n",
       "      <td>Meta</td>\n",
       "      <td>2nd Nov - 23rd Nov</td>\n",
       "      <td>FinoPay Install Campaign</td>\n",
       "      <td>PAN India &amp; Retargeted audience - Oct month</td>\n",
       "      <td>36143</td>\n",
       "      <td>2,680</td>\n",
       "      <td>13.49</td>\n",
       "    </tr>\n",
       "    <tr>\n",
       "      <th>3</th>\n",
       "      <td>4</td>\n",
       "      <td>FinoPay</td>\n",
       "      <td>Neha Yadav</td>\n",
       "      <td>Meta</td>\n",
       "      <td>24th Nov</td>\n",
       "      <td>FinoPay Install Campaign</td>\n",
       "      <td>PAN India and Retargeted audience (Oct-Nov)</td>\n",
       "      <td>41506</td>\n",
       "      <td>3826</td>\n",
       "      <td>10.85</td>\n",
       "    </tr>\n",
       "    <tr>\n",
       "      <th>4</th>\n",
       "      <td>5</td>\n",
       "      <td>FinoPay</td>\n",
       "      <td>Neha Yadav</td>\n",
       "      <td>Meta</td>\n",
       "      <td>24th Nov</td>\n",
       "      <td>FinoPay Install Campaign</td>\n",
       "      <td>PAN India</td>\n",
       "      <td>NaN</td>\n",
       "      <td>NaN</td>\n",
       "      <td>NaN</td>\n",
       "    </tr>\n",
       "  </tbody>\n",
       "</table>\n",
       "</div>"
      ],
      "text/plain": [
       "   SI number  Product Campaign Owner Platform                 Date  \\\n",
       "0          1  FinoPay     Neha Yadav     Meta   7th Nov - 17th Nov   \n",
       "1          2  FinoPay     Neha Yadav     Meta   7th Nov - 17th Nov   \n",
       "2          3  FinoPay     Neha Yadav     Meta   2nd Nov - 23rd Nov   \n",
       "3          4  FinoPay     Neha Yadav     Meta             24th Nov   \n",
       "4          5  FinoPay     Neha Yadav     Meta            24th Nov    \n",
       "\n",
       "              Campaign name                                Target Audience  \\\n",
       "0  FinoPay Install Campaign                Already targetted (Remarketing)   \n",
       "1  FinoPay Install Campaign  PAN India (lookalike of Fino's customer base)   \n",
       "2  FinoPay Install Campaign    PAN India & Retargeted audience - Oct month   \n",
       "3  FinoPay Install Campaign    PAN India and Retargeted audience (Oct-Nov)   \n",
       "4  FinoPay Install Campaign                                      PAN India   \n",
       "\n",
       "  Budget Spent Installs  CPC/CPI  \n",
       "0        18196      887    20.51  \n",
       "1       15,322      759    20.19  \n",
       "2        36143    2,680    13.49  \n",
       "3        41506     3826    10.85  \n",
       "4          NaN      NaN      NaN  "
      ]
     },
     "execution_count": 6,
     "metadata": {},
     "output_type": "execute_result"
    }
   ],
   "source": [
    "meta.head()"
   ]
  },
  {
   "cell_type": "code",
   "execution_count": 7,
   "metadata": {},
   "outputs": [],
   "source": [
    "meta=meta.drop([\"SI number\"],axis=1)"
   ]
  },
  {
   "cell_type": "code",
   "execution_count": 8,
   "metadata": {},
   "outputs": [
    {
     "data": {
      "text/html": [
       "<div>\n",
       "<style scoped>\n",
       "    .dataframe tbody tr th:only-of-type {\n",
       "        vertical-align: middle;\n",
       "    }\n",
       "\n",
       "    .dataframe tbody tr th {\n",
       "        vertical-align: top;\n",
       "    }\n",
       "\n",
       "    .dataframe thead th {\n",
       "        text-align: right;\n",
       "    }\n",
       "</style>\n",
       "<table border=\"1\" class=\"dataframe\">\n",
       "  <thead>\n",
       "    <tr style=\"text-align: right;\">\n",
       "      <th></th>\n",
       "      <th>CPC/CPI</th>\n",
       "    </tr>\n",
       "  </thead>\n",
       "  <tbody>\n",
       "    <tr>\n",
       "      <th>count</th>\n",
       "      <td>5.000000</td>\n",
       "    </tr>\n",
       "    <tr>\n",
       "      <th>mean</th>\n",
       "      <td>13.158000</td>\n",
       "    </tr>\n",
       "    <tr>\n",
       "      <th>std</th>\n",
       "      <td>8.107041</td>\n",
       "    </tr>\n",
       "    <tr>\n",
       "      <th>min</th>\n",
       "      <td>0.750000</td>\n",
       "    </tr>\n",
       "    <tr>\n",
       "      <th>25%</th>\n",
       "      <td>10.850000</td>\n",
       "    </tr>\n",
       "    <tr>\n",
       "      <th>50%</th>\n",
       "      <td>13.490000</td>\n",
       "    </tr>\n",
       "    <tr>\n",
       "      <th>75%</th>\n",
       "      <td>20.190000</td>\n",
       "    </tr>\n",
       "    <tr>\n",
       "      <th>max</th>\n",
       "      <td>20.510000</td>\n",
       "    </tr>\n",
       "  </tbody>\n",
       "</table>\n",
       "</div>"
      ],
      "text/plain": [
       "         CPC/CPI\n",
       "count   5.000000\n",
       "mean   13.158000\n",
       "std     8.107041\n",
       "min     0.750000\n",
       "25%    10.850000\n",
       "50%    13.490000\n",
       "75%    20.190000\n",
       "max    20.510000"
      ]
     },
     "execution_count": 8,
     "metadata": {},
     "output_type": "execute_result"
    }
   ],
   "source": [
    "meta.describe()"
   ]
  },
  {
   "cell_type": "markdown",
   "metadata": {},
   "source": [
    "Too less data to predict/analyise anything."
   ]
  }
 ],
 "metadata": {
  "kernelspec": {
   "display_name": "Python 3",
   "language": "python",
   "name": "python3"
  },
  "language_info": {
   "codemirror_mode": {
    "name": "ipython",
    "version": 3
   },
   "file_extension": ".py",
   "mimetype": "text/x-python",
   "name": "python",
   "nbconvert_exporter": "python",
   "pygments_lexer": "ipython3",
   "version": "3.9.6"
  }
 },
 "nbformat": 4,
 "nbformat_minor": 2
}
